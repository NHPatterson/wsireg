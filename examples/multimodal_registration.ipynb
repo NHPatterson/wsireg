{
 "cells": [
  {
   "cell_type": "code",
   "execution_count": 2,
   "metadata": {},
   "outputs": [],
   "source": [
    "from pathlib import Path\n",
    "from wsireg.wsireg import WsiReg2D"
   ]
  },
  {
   "cell_type": "markdown",
   "metadata": {},
   "source": [
    "## wsireg for multi-modal image registration of whole slide images\n",
    "\n",
    "First, we will initialize the graph model and add modalities. Each modality is loaded with 3\n",
    "pieces of information:\n",
    "* the file path to image file to be loaded\n",
    "* the image spatial resolution,\n",
    "* the preprocessing parameters.\n",
    "\n",
    "Images that are to be registered must be a single plane and\n",
    "the preprocessing parameters take care of this.\n",
    "\n",
    "Two default processes are available:\n",
    "* _FL_ : take multi-channel image and converts to single channel through maximum intensity projection\n",
    "* _BF_ : assumed to be 24-bit RGB images, these are converted to a single channel by taking RGB to greyscale\n",
    "then intensity is inverted so background is black and foreground is white.\n"
   ]
  },
  {
   "cell_type": "code",
   "execution_count": 3,
   "metadata": {
    "pycharm": {
     "name": "#%%\n"
    }
   },
   "outputs": [],
   "source": [
    "# we define a project name, output directory and whether to cache\n",
    "# preprocessed images when making a registration graph instance\n",
    "# project name = Sample107\n",
    "# output directory is same as the data\n",
    "# cache_images is True, this saves time during registration and avoids unnecessary io\n",
    "reg_graph = WsiReg2D(\"Sample107\",\"./\", cache_images=True)"
   ]
  },
  {
   "cell_type": "markdown",
   "metadata": {},
   "source": [
    "We will add multiple image modalities (7 in total) and 6 of these will be transformed to a single target but will take different paths.\n",
    "The target modality is a post-imaging mass spectrometry(IMS) autofluorescence (AF) image to which IMS data has been previously registered.\n",
    "Other modalities are AF of this section before IMS, AF on a serial section prior to immunofluorescence (IF). Finally, 3 cycles\n",
    "of IF on a single section."
   ]
  },
  {
   "cell_type": "code",
   "execution_count": 4,
   "metadata": {
    "pycharm": {
     "name": "#%%\n"
    }
   },
   "outputs": [],
   "source": [
    "# global target modality\n",
    "# preprocessing\n",
    "# ch_indicices selects certain channels\n",
    "# as_uint8 bytescales data to unsigned 8 bit for memory saving\n",
    "# contrast_enhance makes low contrast fluorescence images brighter for registration\n",
    "# if a value in the processing dict is set to None it is skipped. These are the defaults\n",
    "\n",
    "reg_graph.add_modality(\n",
    "    \"postAF_IMS\",\n",
    "    \"C:/biomic/devdata/S107_postAF_IMS.tif\",\n",
    "    image_res=1,\n",
    "    prepro_dict={\n",
    "        \"image_type\": \"FL\",\n",
    "        \"ch_indices\": None,\n",
    "        \"as_uint8\": True,\n",
    "        \"contrast_enhance\": None,\n",
    "    },\n",
    ")"
   ]
  },
  {
   "cell_type": "code",
   "execution_count": 5,
   "metadata": {
    "pycharm": {
     "name": "#%%\n"
    }
   },
   "outputs": [],
   "source": [
    "# this is an AF modality\n",
    "# we select the first channel for registration\n",
    "# scale intensity to uint8\n",
    "# and rotate the image 180 degrees counter-clockwise using \"rot_cc\"\n",
    "# very large rotations are hard to capture with intensity based registration\n",
    "# therefore we use prior knowledge to add this information\n",
    "\n",
    "reg_graph.add_modality(\n",
    "    \"preAF_IMS\",\n",
    "    \"C:/biomic/devdata/S107_preAF_IMS.czi\",\n",
    "    image_res=0.65,\n",
    "    prepro_dict={\n",
    "        \"image_type\": \"FL\",\n",
    "        \"ch_indices\": [0],\n",
    "        \"as_uint8\": True,\n",
    "        \"rot_cc\": 180,\n",
    "    },\n",
    ")\n",
    "\n",
    "\n"
   ]
  },
  {
   "cell_type": "code",
   "execution_count": 6,
   "metadata": {
    "pycharm": {
     "name": "#%%\n"
    }
   },
   "outputs": [],
   "source": [
    "# serial section AF\n",
    "\n",
    "# in addition the previous modalities pre-processing\n",
    "# this modality's section is \"mirror\" to the previous and thus needs\n",
    "# a coordinate flip so we use \"flip\" preprocessing and flip horizontally the image\n",
    "\n",
    "reg_graph.add_modality(\n",
    "    \"preAF_MxIF\",\n",
    "    \"C:/biomic/devdata/S107_preAF_MxIF.czi\",\n",
    "    image_res=0.65,\n",
    "    prepro_dict={\n",
    "        \"image_type\": \"FL\",\n",
    "        \"ch_indices\": [0],\n",
    "        \"as_uint8\": True,\n",
    "        \"rot_cc\": 90,\n",
    "        \"flip\": \"h\",\n",
    "    },\n",
    ")"
   ]
  },
  {
   "cell_type": "markdown",
   "metadata": {
    "pycharm": {
     "name": "#%% md\n"
    }
   },
   "source": [
    "### IF registration\n",
    "The multiple cycles of IF are loaded as modalities selecting their DAPI channel to achieve cell nucleus-to-nucleus\n",
    "registration. However, MxIF cycle 1 (modality : MxIF_cyc1) will be registered to this sections corresponding AF image.\n",
    "Because of this, we will use special preprocessing for that registration described later."
   ]
  },
  {
   "cell_type": "code",
   "execution_count": 8,
   "metadata": {
    "pycharm": {
     "name": "#%%\n"
    }
   },
   "outputs": [],
   "source": [
    "# all MxIF cycles have similar spatial pre-processing\n",
    "\n",
    "reg_graph.add_modality(\n",
    "    \"MxIF_cyc1\",\n",
    "    \"C:/biomic/devdata/S107_MxIF_Cyc1.czi\",\n",
    "    image_res=0.65,\n",
    "    prepro_dict={\n",
    "        \"image_type\": \"FL\",\n",
    "        \"ch_indices\": [0],\n",
    "        \"as_uint8\": True,\n",
    "        \"rot_cc\": 90,\n",
    "        \"flip\": \"h\",\n",
    "    },\n",
    ")\n",
    "\n",
    "reg_graph.add_modality(\n",
    "    \"MxIF_cyc2\",\n",
    "    \"C:/biomic/devdata/S107_MxIF_Cyc2.czi\",\n",
    "    image_res=0.65,\n",
    "    prepro_dict={\n",
    "        \"image_type\": \"FL\",\n",
    "        \"ch_indices\": [0],\n",
    "        \"as_uint8\": True,\n",
    "        \"rot_cc\": 90,\n",
    "        \"flip\": \"h\",\n",
    "    },\n",
    ")\n",
    "\n",
    "reg_graph.add_modality(\n",
    "    \"MxIF_cyc3\",\n",
    "    \"C:/biomic/devdata/S107_MxIF_Cyc3.czi\",\n",
    "    image_res=0.65,\n",
    "    prepro_dict={\n",
    "        \"image_type\": \"FL\",\n",
    "        \"ch_indices\": [0],\n",
    "        \"as_uint8\": True,\n",
    "        \"rot_cc\": 90,\n",
    "        \"flip\": \"h\",\n",
    "    },\n",
    ")\n",
    "\n"
   ]
  },
  {
   "cell_type": "markdown",
   "metadata": {},
   "source": [
    "### defining the registrations (edges) of the graph\n",
    "\n",
    "Now we will define how modalities move through the graph. For every modality to be registered we define\n",
    "three settings:\n",
    "* modality to be registered\n",
    "* modality to which it will be registered\n",
    "* through modalities, modalities which will form the path of alignment from one image to another\n",
    "* registration parameters (elastix parameters)\n",
    "* whether to use special preprocessing for this particular registration\n",
    "\n",
    "For this case where there are serial sections, we want to define registration paths that use the best information\n",
    "for alignment. For instance, we have AF images on the two serial sections so complex non-linear registration is best performed mono-modally.\n",
    "The alternative would be to register the IF data directly to the AF image, where the specificty of IF would not help find commonalities between the modalities\n",
    "on which to register."
   ]
  },
  {
   "cell_type": "code",
   "execution_count": 9,
   "metadata": {
    "pycharm": {
     "name": "#%%\n"
    }
   },
   "outputs": [],
   "source": [
    "# register preAF_IMS to postAF_IMS\n",
    "reg_graph.add_reg_path(\n",
    "    \"preAF_IMS\", \"postAF_IMS\", thru_modality=None, reg_params=[\"rigid\"]\n",
    ")\n",
    "\n",
    "# register preAF_MxIF to postAF_IMS\n",
    "# BUT go through preAF_IMS (same section)\n",
    "# this will align preAF_MXiF to preAF_IMS then\n",
    "# append the transformations from preAF_IMS to postAF_IMS\n",
    "# in this cases we use both rigid and non-linear (\"nl\") elastix transformation models\n",
    "# for default we have \"rigid\",\"affine\" and \"nl\" these work in 90% of the cases\n",
    "# alternatively you can add a file path string to elastix registration parameters saved in a text file\n",
    "reg_graph.add_reg_path(\n",
    "    \"preAF_MxIF\", \"postAF_IMS\", thru_modality=\"preAF_IMS\", reg_params=[\"rigid\", \"nl\"],\n",
    ")"
   ]
  },
  {
   "cell_type": "code",
   "execution_count": 10,
   "metadata": {
    "pycharm": {
     "name": "#%%\n"
    }
   },
   "outputs": [],
   "source": [
    "# here we register MxIF_cyc1 to postAF_IMS through preAF_MxIF\n",
    "# the graph will find the necessary edges to follow to get from MxIF_cyc1 to postAF_IMS\n",
    "# but we use special preprocessing here since the set preprocessing for MxIF_cyc1 is\n",
    "# to select the DAPI nuclei channel but here we will use the maximum intensity projection\n",
    "# to process the 4 channels to 1 to align to AF\n",
    "# this increases the amount of texture and spatial information for registration\n",
    "# as DAPI is spatially sparse in signal, compared to all channels\n",
    "\n",
    "reg_graph.add_reg_path(\n",
    "    \"MxIF_cyc1\",\n",
    "    \"postAF_IMS\",\n",
    "    thru_modality=\"preAF_MxIF\",\n",
    "    reg_params=[\"rigid\"],\n",
    "    override_prepro={\n",
    "        \"source\": {\n",
    "            \"image_type\": \"FL\",\n",
    "            \"ch_indices\": None,\n",
    "            \"as_uint8\": True,\n",
    "            \"rot_cc\": 90,\n",
    "            \"flip\": \"h\",\n",
    "        },\n",
    "        \"target\": None,\n",
    "    },\n",
    ")\n",
    "\n"
   ]
  },
  {
   "cell_type": "code",
   "execution_count": 11,
   "metadata": {
    "pycharm": {
     "name": "#%%\n"
    }
   },
   "outputs": [],
   "source": [
    "# now we align MxIF cycles 2 and 3 to postAF, this time going through MxIF Cyc1\n",
    "# MxIF_cyc1 goes through preAF_MxIF to preAF_IMS to postAF_IMS\n",
    "reg_graph.add_reg_path(\n",
    "    \"MxIF_cyc2\", \"postAF_IMS\", thru_modality=\"MxIF_cyc1\", reg_params=[\"rigid\"],\n",
    ")\n",
    "\n",
    "reg_graph.add_reg_path(\n",
    "    \"MxIF_cyc3\", \"postAF_IMS\", thru_modality=\"MxIF_cyc1\", reg_params=[\"rigid\"],\n",
    ")"
   ]
  },
  {
   "cell_type": "markdown",
   "metadata": {
    "pycharm": {
     "name": "#%% md\n"
    }
   },
   "source": [
    "### graph information\n",
    "We can use some utility functions to learn about the graph."
   ]
  },
  {
   "cell_type": "code",
   "execution_count": 12,
   "metadata": {
    "pycharm": {
     "name": "#%%\n"
    }
   },
   "outputs": [
    {
     "name": "stdout",
     "output_type": "stream",
     "text": [
      "number of modalities : 6\n",
      "number of registrations : 5\n"
     ]
    }
   ],
   "source": [
    "print(\"number of modalities : {}\".format(reg_graph.n_modalities))\n",
    "print(\"number of registrations : {}\".format(reg_graph.n_registrations))"
   ]
  },
  {
   "cell_type": "code",
   "execution_count": 13,
   "metadata": {
    "pycharm": {
     "name": "#%%\n"
    }
   },
   "outputs": [
    {
     "name": "stdout",
     "output_type": "stream",
     "text": [
      "{'preAF_IMS': ['postAF_IMS'], 'preAF_MxIF': ['preAF_IMS', 'postAF_IMS'], 'MxIF_cyc1': ['preAF_MxIF', 'postAF_IMS'], 'MxIF_cyc2': ['MxIF_cyc1', 'postAF_IMS'], 'MxIF_cyc3': ['MxIF_cyc1', 'postAF_IMS']}\n"
     ]
    }
   ],
   "source": [
    "print(reg_graph.reg_paths)"
   ]
  },
  {
   "cell_type": "code",
   "execution_count": 14,
   "metadata": {
    "pycharm": {
     "name": "#%%\n"
    }
   },
   "outputs": [
    {
     "name": "stdout",
     "output_type": "stream",
     "text": [
      "{'preAF_IMS': [{'source': 'preAF_IMS', 'target': 'postAF_IMS'}], 'preAF_MxIF': [{'source': 'preAF_MxIF', 'target': 'preAF_IMS'}, {'source': 'preAF_IMS', 'target': 'postAF_IMS'}], 'MxIF_cyc1': [{'source': 'MxIF_cyc1', 'target': 'preAF_MxIF'}, {'source': 'preAF_MxIF', 'target': 'preAF_IMS'}, {'source': 'preAF_IMS', 'target': 'postAF_IMS'}], 'MxIF_cyc2': [{'source': 'MxIF_cyc2', 'target': 'MxIF_cyc1'}, {'source': 'MxIF_cyc1', 'target': 'preAF_MxIF'}, {'source': 'preAF_MxIF', 'target': 'preAF_IMS'}, {'source': 'preAF_IMS', 'target': 'postAF_IMS'}], 'MxIF_cyc3': [{'source': 'MxIF_cyc3', 'target': 'MxIF_cyc1'}, {'source': 'MxIF_cyc1', 'target': 'preAF_MxIF'}, {'source': 'preAF_MxIF', 'target': 'preAF_IMS'}, {'source': 'preAF_IMS', 'target': 'postAF_IMS'}]}\n"
     ]
    }
   ],
   "source": [
    "# show all transformation paths\n",
    "print(reg_graph.transform_paths)\n"
   ]
  },
  {
   "cell_type": "code",
   "execution_count": 15,
   "metadata": {
    "pycharm": {
     "name": "#%%\n"
    }
   },
   "outputs": [
    {
     "name": "stdout",
     "output_type": "stream",
     "text": [
      "{'source': 'MxIF_cyc1', 'target': 'preAF_MxIF'}\n",
      "{'source': 'preAF_MxIF', 'target': 'preAF_IMS'}\n",
      "{'source': 'preAF_IMS', 'target': 'postAF_IMS'}\n"
     ]
    }
   ],
   "source": [
    "# look at how MxIF_cyc3 will be transformed specifically\n",
    "print(*reg_graph.transform_paths[\"MxIF_cyc1\"], sep=\"\\n\")\n",
    "\n"
   ]
  },
  {
   "cell_type": "markdown",
   "metadata": {
    "pycharm": {
     "name": "#%% md\n"
    }
   },
   "source": [
    "From the above we can see a list of transformations that will be applied to transform MxIF_cyc1 to\n",
    "postAF_IMS.\n",
    "\n",
    "### executing the graph\n",
    "Now we have loaded and set all registration modalities, we can begin the alignment and transformation process."
   ]
  },
  {
   "cell_type": "code",
   "execution_count": null,
   "metadata": {
    "pycharm": {
     "name": "#%%\n"
    }
   },
   "outputs": [],
   "source": [
    "# align images, this can take some time depending on computer performance\n",
    "# generally 3-10 minutes per registration when using the default models\n",
    "reg_graph.register_images()\n",
    "\n",
    "# save the transformations as a json on disk (can be reloaded and used again)\n",
    "reg_graph.save_transformations()\n",
    "\n",
    "# transform and save images to disk as tifs using ITK io\n",
    "reg_graph.transform_images()"
   ]
  },
  {
   "cell_type": "code",
   "execution_count": null,
   "metadata": {
    "pycharm": {
     "name": "#%%\n"
    }
   },
   "outputs": [],
   "source": [
    "\n"
   ]
  }
 ],
 "metadata": {
  "kernelspec": {
   "display_name": "wsireg",
   "language": "python",
   "name": "wreg"
  },
  "language_info": {
   "codemirror_mode": {
    "name": "ipython",
    "version": 3
   },
   "file_extension": ".py",
   "mimetype": "text/x-python",
   "name": "python",
   "nbconvert_exporter": "python",
   "pygments_lexer": "ipython3",
   "version": "3.8.3"
  }
 },
 "nbformat": 4,
 "nbformat_minor": 1
}